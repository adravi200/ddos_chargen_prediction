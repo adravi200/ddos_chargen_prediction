{
 "cells": [
  {
   "cell_type": "code",
   "execution_count": null,
   "metadata": {},
   "outputs": [],
   "source": [
    "%matplotlib inline\n",
    "\n",
    "import csv\n",
    "import datetime\n",
    "import matplotlib.pyplot as plt\n",
    "import numpy as np\n",
    "import os\n",
    "import scipy.stats\n",
    "import seaborn as sns\n",
    "import sklearn.preprocessing\n",
    "import tensorflow as tf\n",
    "import tick.hawkes\n",
    "import pandas as pd\n",
    "\n",
    "import vrnnframe as vrnnframe\n",
    "from collections import defaultdict"
   ]
  },
  {
   "cell_type": "code",
   "execution_count": null,
   "metadata": {},
   "outputs": [],
   "source": [
    "data_dir = '/y/data/processed_ddos'\n",
    "trace_dirs = [\n",
    "    'WSUa',\n",
    "    'WSUb',\n",
    "    'WSUc',\n",
    "    'WSUd'\n",
    "]\n",
    "output_dir = '/y/adravi/ddos_chargen_2016_processed'\n",
    "output_file = '/y/adravi/ddos_chargen_2016.npz'\n",
    "\n",
    "if os.path.isfile(output_file):\n",
    "    data = np.load(output_file)\n",
    "    timestamps = data['timestamps']\n",
    "    events = data['events']\n",
    "else:\n",
    "    print(\"No file found\")"
   ]
  },
  {
   "cell_type": "code",
   "execution_count": null,
   "metadata": {},
   "outputs": [],
   "source": [
    "dt_max = 0.01\n",
    "t_train, dt_train, is_event_train, event_train = vrnnframe.preprocess(\n",
    "    timestamps, [np.ones([timestamps_.shape[0], 1]) for timestamps_ in timestamps], dt_max\n",
    ")"
   ]
  },
  {
   "cell_type": "code",
   "execution_count": null,
   "metadata": {},
   "outputs": [],
   "source": [
    "n_latent = 10\n",
    "n_hidden = 100\n",
    "n_h = 100\n",
    "\n",
    "lstm_cell = tf.keras.layers.LSTMCell(n_h)\n",
    "x_network = tf.keras.Sequential([\n",
    "    tf.keras.layers.Dense(n_hidden),\n",
    "    tf.keras.layers.Activation('relu')\n",
    "])\n",
    "encoder_network = tf.keras.Sequential([\n",
    "    tf.keras.layers.Dense(n_hidden),\n",
    "    tf.keras.layers.Activation('relu'),\n",
    "    tf.keras.layers.Dense(n_hidden),\n",
    "    tf.keras.layers.Activation('relu')\n",
    "])\n",
    "prior_network = tf.keras.Sequential([\n",
    "    tf.keras.layers.Dense(n_hidden), \n",
    "    tf.keras.layers.Activation('relu'),\n",
    "    tf.keras.layers.Dense(n_hidden),\n",
    "    tf.keras.layers.Activation('relu')\n",
    "])\n",
    "z_network = tf.keras.Sequential([\n",
    "    tf.keras.layers.Dense(n_hidden),\n",
    "    tf.keras.layers.Activation('relu')\n",
    "])\n",
    "decoder_network = tf.keras.Sequential([\n",
    "    tf.keras.layers.Dense(n_hidden),\n",
    "    tf.keras.layers.Activation('relu'),\n",
    "    tf.keras.layers.Dense(n_hidden),\n",
    "    tf.keras.layers.Activation('relu')\n",
    "])\n",
    "recurrence_network = tf.keras.Sequential([\n",
    "    tf.keras.layers.Dense(n_hidden),\n",
    "    tf.keras.layers.Activation('relu'),\n",
    "    tf.keras.layers.Dense(n_hidden),\n",
    "    tf.keras.layers.Activation('relu')\n",
    "])\n",
    "\n",
    "vrnn = vrnnframe.VRNN(\n",
    "    n_latent, dt_max, lstm_cell,\n",
    "    x_network=x_network, encoder_network=encoder_network, decoder_network=decoder_network,\n",
    "    prior_network=prior_network, z_network=z_network, recurrence_network=recurrence_network\n",
    ")\n",
    "\n",
    "vrnn = vrnnframe.VRNNModel(vrnn)\n",
    "vrnn_optimizer = tf.keras.optimizers.Adam(learning_rate=2e-4)\n",
    "vrnn.train(\n",
    "    t_train, dt_train, is_event_train, event_train,\n",
    "    lambda_=10, n_steps=10,\n",
    "    batch_duration=100, batch_size=100, epochs=100,\n",
    "    optimizer=vrnn_optimizer\n",
    ")"
   ]
  },
  {
   "cell_type": "code",
   "execution_count": null,
   "metadata": {},
   "outputs": [],
   "source": [
    "vrnn.train(\n",
    "    t_train, dt_train, is_event_train, event_train,\n",
    "    lambda_=10, n_steps=100,\n",
    "    batch_duration=100, batch_size=100, epochs=10,\n",
    "    optimizer=vrnn_optimizer\n",
    ")"
   ]
  },
  {
   "cell_type": "code",
   "execution_count": null,
   "metadata": {},
   "outputs": [],
   "source": [
    "intensity_pred, event_pred = vrnn.infer(\n",
    "    t_train, dt_train, is_event_train, event_train,\n",
    "    batch_size=200, return_intensity=True, return_event_prob=True\n",
    ")"
   ]
  },
  {
   "cell_type": "code",
   "execution_count": null,
   "metadata": {},
   "outputs": [],
   "source": [
    "dates = ['March 11', 'March 12', 'March 13', 'March 14', 'March 15', 'March 16', 'March 17']\n",
    "\n",
    "fig, axs = plt.subplots(4, 2, figsize=(15, 10), constrained_layout=True)\n",
    "axs = axs.flatten()\n",
    "for i, date in enumerate(dates):\n",
    "    axs[i].plot(t_train[i], intensity_pred[i], 'b')\n",
    "    axs[i].set_title(date)\n",
    "\n",
    "axs[-1].axis('off')"
   ]
  },
  {
   "cell_type": "code",
   "execution_count": null,
   "metadata": {},
   "outputs": [],
   "source": [
    "encoder_mean, encoder_std, prior_mean, prior_std = vrnn.infer(\n",
    "    t_test, dt_test, is_event_test, event_test, batch_size=500,\n",
    "    return_encoder_mean=True, return_encoder_std=True, return_prior_mean=True, return_prior_std=True\n",
    ")"
   ]
  }
 ],
 "metadata": {
  "language_info": {
   "name": "python"
  },
  "orig_nbformat": 4
 },
 "nbformat": 4,
 "nbformat_minor": 2
}
